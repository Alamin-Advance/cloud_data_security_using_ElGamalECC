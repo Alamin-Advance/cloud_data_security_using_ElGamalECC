{
 "cells": [
  {
   "cell_type": "markdown",
   "metadata": {},
   "source": [
    "# ElGamal_ECC"
   ]
  },
  {
   "cell_type": "code",
   "execution_count": 30,
   "metadata": {},
   "outputs": [],
   "source": [
    "import random\n",
    "import time\n",
    "#import EccCore"
   ]
  },
  {
   "cell_type": "code",
   "execution_count": null,
   "metadata": {},
   "outputs": [],
   "source": []
  },
  {
   "cell_type": "code",
   "execution_count": 31,
   "metadata": {},
   "outputs": [],
   "source": [
    "def polynomial(LHS,RHS,n):\n",
    "    for i in range(0,n):\n",
    "        LHS[0].append(i)\n",
    "        RHS[0].append(i)\n",
    "        LHS[1].append((i*i*i + a*i + b)%n)\n",
    "        RHS[1].append((i*i)%n)"
   ]
  },
  {
   "cell_type": "code",
   "execution_count": 32,
   "metadata": {},
   "outputs": [],
   "source": [
    "\n",
    "def points_generate(arr_x,arr_y,n):\n",
    "    count=0\n",
    "    for i in range(0,n):\n",
    "        for j in range(0,n):\n",
    "            if(LHS[1][i]==RHS[1][j]):\n",
    "                count+=1\n",
    "                arr_x.append(LHS[0][i])\n",
    "                arr_y.append(RHS[0][j])\n",
    "    return count"
   ]
  },
  {
   "cell_type": "code",
   "execution_count": 33,
   "metadata": {},
   "outputs": [
    {
     "name": "stdout",
     "output_type": "stream",
     "text": [
      "inter value of order 'n':\n",
      "44\n",
      "Enter value of 'a':\n",
      "0\n",
      "Enter value of 'b':\n",
      "7\n"
     ]
    }
   ],
   "source": [
    "#main \n",
    "#Curve (y^2=x^3+a.x+b) configuration and n is order of point P\n",
    "\n",
    "print(\"inter value of order 'n':\") \n",
    "n=int(input())        #for example, n= 115792089237316195423570985008687907852837564279074904382605163141518161494337\n",
    "LHS=[[]]\n",
    "RHS=[[]]\n",
    "LHS.append([])\n",
    "RHS.append([])\n",
    "print(\"Enter value of 'a':\")\n",
    "a=int(input())\n",
    "print(\"Enter value of 'b':\")\n",
    "b=int(input())\n"
   ]
  },
  {
   "cell_type": "code",
   "execution_count": 34,
   "metadata": {},
   "outputs": [
    {
     "name": "stdout",
     "output_type": "stream",
     "text": [
      "Generated points are:\n",
      "1  ( 5 , 0 )\n",
      "\n",
      "2  ( 5 , 22 )\n",
      "\n",
      "3  ( 13 , 2 )\n",
      "\n",
      "4  ( 13 , 20 )\n",
      "\n",
      "5  ( 13 , 24 )\n",
      "\n",
      "6  ( 13 , 42 )\n",
      "\n",
      "7  ( 17 , 6 )\n",
      "\n",
      "8  ( 17 , 16 )\n",
      "\n",
      "9  ( 17 , 28 )\n",
      "\n",
      "10  ( 17 , 38 )\n",
      "\n",
      "11  ( 25 , 10 )\n",
      "\n",
      "12  ( 25 , 12 )\n",
      "\n",
      "13  ( 25 , 32 )\n",
      "\n",
      "14  ( 25 , 34 )\n",
      "\n",
      "15  ( 29 , 8 )\n",
      "\n",
      "16  ( 29 , 14 )\n",
      "\n",
      "17  ( 29 , 30 )\n",
      "\n",
      "18  ( 29 , 36 )\n",
      "\n",
      "19  ( 37 , 4 )\n",
      "\n",
      "20  ( 37 , 18 )\n",
      "\n",
      "21  ( 37 , 26 )\n",
      "\n",
      "22  ( 37 , 40 )\n",
      "\n"
     ]
    }
   ],
   "source": [
    "#Polynomial\n",
    "polynomial(LHS,RHS,n)\n",
    "\n",
    "arr_x=[]\n",
    "arr_y=[]\n",
    "#Generating base points\n",
    "count=points_generate(arr_x,arr_y,n)\n",
    "    \n",
    "#Print Generated Points\n",
    "print(\"Generated points are:\")\n",
    "for i in range(0,count):\n",
    "    print(i+1,\" (\",arr_x[i],\",\",arr_y[i],\")\\n\")"
   ]
  },
  {
   "cell_type": "code",
   "execution_count": 35,
   "metadata": {},
   "outputs": [
    {
     "name": "stdout",
     "output_type": "stream",
     "text": [
      "Base Point taken is:\t( 5 , 0 )\n",
      "\n",
      "Enter the random number 'd' i.e. Private key of Sender (d<n):\n",
      "9\n",
      "Public key of sender is:\t( 45 , 0 )\n",
      "\n"
     ]
    }
   ],
   "source": [
    "\n",
    "#Calculation of Base Point\n",
    "bx=arr_x[0]\n",
    "by=arr_y[0]\n",
    "print(\"Base Point taken is:\\t(\",bx,\",\",by,\")\\n\")\n",
    "\n",
    "\n",
    "print(\"Enter the random number 'd' i.e. Private key of Sender (d<n):\")\n",
    "d=int(input())\n",
    "if(d>=n):\n",
    "    print(\"'d' should be less than 'n'.\")\n",
    "else:\n",
    "    #Q i.e. sender's public key generation\n",
    "    Qx=d*bx\n",
    "    Qy=d*by\n",
    "    print(\"Public key of sender is:\\t(\",Qx,\",\",Qy,\")\\n\")\n",
    "    "
   ]
  },
  {
   "cell_type": "code",
   "execution_count": 36,
   "metadata": {},
   "outputs": [
    {
     "name": "stdout",
     "output_type": "stream",
     "text": [
      "Enter the random number 'k' (k<n):\n",
      "\n",
      "7\n",
      "Enter the message to be sent:\n",
      "\n",
      "10225\n",
      "Value of Cipher text 1 i.e. C1:\t( 35 , 0 )\n",
      "\n",
      "Value of Cipher text 2 i.e. C2:\t( 10540 , 10225 )\n",
      "\n",
      "encryption lasts  15.450967788696289  seconds\n"
     ]
    }
   ],
   "source": [
    "#Encrytion\n",
    "encryption_begins = time.time()\n",
    "print(\"Enter the random number 'k' (k<n):\\n\")\n",
    "k=int(input())\n",
    "if(k>=n):\n",
    "    print(\"'k' should be less than 'n'\")\n",
    "else:\n",
    "    print(\"Enter the message to be sent:\\n\")\n",
    "    M=int(input())\n",
    "    #message = raw_input(\"Enter Message to be encrypted > \")\n",
    "\n",
    " #Cipher text 1 generation\n",
    "    C1x=k*bx\n",
    "    C1y=k*by\n",
    "    print(\"Value of Cipher text 1 i.e. C1:\\t(\",C1x,\",\",C1y,\")\\n\")\n",
    "\n",
    "#Cipher text 2 generation\n",
    "    C2x=k*Qx+M\n",
    "    C2y=k*Qy+M\n",
    "    print(\"Value of Cipher text 2 i.e. C2:\\t(\",C2x,\",\",C2y,\")\\n\")\n",
    "    \n",
    "encryption_ends = time.time()\n",
    "print(\"encryption lasts \",encryption_ends-encryption_begins,\" seconds\")"
   ]
  },
  {
   "cell_type": "code",
   "execution_count": 37,
   "metadata": {},
   "outputs": [
    {
     "name": "stdout",
     "output_type": "stream",
     "text": [
      "The message recieved by reciever is:\t 10225\n",
      "decryption lasts  0.0  seconds\n"
     ]
    }
   ],
   "source": [
    " #Decryption\n",
    "decryption_begin = time.time()\n",
    "\n",
    "Mx=C2x-d*C1x\n",
    "My=C2y-d*C1y\n",
    "print(\"The message recieved by reciever is:\\t\",Mx)  \n",
    "\n",
    "\n",
    "decrytion_end = time.time()\n",
    "print(\"decryption lasts \",decrytion_end-decryption_begin,\" seconds\")"
   ]
  },
  {
   "cell_type": "code",
   "execution_count": null,
   "metadata": {},
   "outputs": [],
   "source": []
  }
 ],
 "metadata": {
  "kernelspec": {
   "display_name": "Python 3",
   "language": "python",
   "name": "python3"
  },
  "language_info": {
   "codemirror_mode": {
    "name": "ipython",
    "version": 3
   },
   "file_extension": ".py",
   "mimetype": "text/x-python",
   "name": "python",
   "nbconvert_exporter": "python",
   "pygments_lexer": "ipython3",
   "version": "3.7.3"
  }
 },
 "nbformat": 4,
 "nbformat_minor": 2
}
